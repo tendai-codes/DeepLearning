{
  "nbformat": 4,
  "nbformat_minor": 0,
  "metadata": {
    "colab": {
      "provenance": [],
      "toc_visible": true,
      "authorship_tag": "ABX9TyPiGU+pYijGxtf+SyqcI8R6",
      "include_colab_link": true
    },
    "kernelspec": {
      "name": "python3",
      "display_name": "Python 3"
    },
    "language_info": {
      "name": "python"
    }
  },
  "cells": [
    {
      "cell_type": "markdown",
      "metadata": {
        "id": "view-in-github",
        "colab_type": "text"
      },
      "source": [
        "<a href=\"https://colab.research.google.com/github/tendai-codes/DeepLearning/blob/main/Linear%20Regression_Template%20PyTorch.ipynb\" target=\"_parent\"><img src=\"https://colab.research.google.com/assets/colab-badge.svg\" alt=\"Open In Colab\"/></a>"
      ]
    },
    {
      "cell_type": "markdown",
      "source": [
        "### Import libraries"
      ],
      "metadata": {
        "id": "oMcfWnViAnmp"
      }
    },
    {
      "cell_type": "code",
      "execution_count": 111,
      "metadata": {
        "id": "s3Es9AEutVs3"
      },
      "outputs": [],
      "source": [
        "import torch\n",
        "from torch import nn #nn contains all of PyTorch's building blocks for neural networks\n",
        "import matplotlib.pyplot as plt"
      ]
    },
    {
      "cell_type": "markdown",
      "source": [
        "### Create device agnostic code"
      ],
      "metadata": {
        "id": "JNcJ_BCzAtP9"
      }
    },
    {
      "cell_type": "code",
      "source": [
        "# Setup device Agnostic Code\n",
        "device = \"cuda\" if torch.cuda.is_available() else \"cpu\"\n",
        "print(f\"Using Device: {device}\")"
      ],
      "metadata": {
        "colab": {
          "base_uri": "https://localhost:8080/"
        },
        "id": "fsFiJJVt6gBP",
        "outputId": "7d59eb07-6599-4823-e426-67d16af4501e"
      },
      "execution_count": 112,
      "outputs": [
        {
          "output_type": "stream",
          "name": "stdout",
          "text": [
            "Using Device: cpu\n"
          ]
        }
      ]
    },
    {
      "cell_type": "markdown",
      "source": [
        "### Create data sample"
      ],
      "metadata": {
        "id": "4M37RAPLA3Pi"
      }
    },
    {
      "cell_type": "code",
      "source": [
        "# Create data using linear regression parameters (y = Bx + a)\n",
        "weight = 0.6 #B\n",
        "bias = 0.2   #a\n",
        "\n",
        "#create range values\n",
        "start = 0\n",
        "end = 1\n",
        "step = 0.02\n",
        "\n",
        "#Create X (features) and y (labels)\n",
        "X = torch.arange(start, end, step).unsqueeze(dim=1) #add dimesion to help with model building\n",
        "y = weight * X + bias\n",
        "\n",
        "X[:10], y[:10]"
      ],
      "metadata": {
        "colab": {
          "base_uri": "https://localhost:8080/"
        },
        "id": "gjToPmPlwEWF",
        "outputId": "4bccc67e-f35a-4b04-fc63-d70077957879"
      },
      "execution_count": 134,
      "outputs": [
        {
          "output_type": "execute_result",
          "data": {
            "text/plain": [
              "(tensor([[0.0000],\n",
              "         [0.0200],\n",
              "         [0.0400],\n",
              "         [0.0600],\n",
              "         [0.0800],\n",
              "         [0.1000],\n",
              "         [0.1200],\n",
              "         [0.1400],\n",
              "         [0.1600],\n",
              "         [0.1800]]),\n",
              " tensor([[0.2000],\n",
              "         [0.2120],\n",
              "         [0.2240],\n",
              "         [0.2360],\n",
              "         [0.2480],\n",
              "         [0.2600],\n",
              "         [0.2720],\n",
              "         [0.2840],\n",
              "         [0.2960],\n",
              "         [0.3080]]))"
            ]
          },
          "metadata": {},
          "execution_count": 134
        }
      ]
    },
    {
      "cell_type": "code",
      "source": [
        " len(X), len(y)"
      ],
      "metadata": {
        "colab": {
          "base_uri": "https://localhost:8080/"
        },
        "id": "olARI0F8xtvb",
        "outputId": "e20f81c5-2dc4-4456-e016-4d3d1b6ef20d"
      },
      "execution_count": 114,
      "outputs": [
        {
          "output_type": "execute_result",
          "data": {
            "text/plain": [
              "(50, 50)"
            ]
          },
          "metadata": {},
          "execution_count": 114
        }
      ]
    },
    {
      "cell_type": "markdown",
      "source": [
        "### Split Training & Test set"
      ],
      "metadata": {
        "id": "cJot0WmtyXpI"
      }
    },
    {
      "cell_type": "code",
      "source": [
        "# Create train/test split\n",
        "train_split = int(0.8*len(X))\n",
        "X_train, y_train = X[:train_split], y[:train_split]\n",
        "X_test, y_test = X[train_split:], y[train_split:]\n",
        "\n",
        "len(X_train), len(y_train), len(X_test), len(y_test\n",
        "                                             )\n"
      ],
      "metadata": {
        "colab": {
          "base_uri": "https://localhost:8080/"
        },
        "id": "8dZMAYo-ycRJ",
        "outputId": "8b7370a3-a8c0-4167-d8cb-f82551e7cb94"
      },
      "execution_count": 135,
      "outputs": [
        {
          "output_type": "execute_result",
          "data": {
            "text/plain": [
              "(40, 40, 10, 10)"
            ]
          },
          "metadata": {},
          "execution_count": 135
        }
      ]
    },
    {
      "cell_type": "markdown",
      "source": [
        "### Plot your dataset"
      ],
      "metadata": {
        "id": "gUoftvBbBGh0"
      }
    },
    {
      "cell_type": "code",
      "source": [
        "# Visualise dataset\n",
        "\n",
        "def plot_predict(train_data=X_train,\n",
        "                 train_label=y_train,\n",
        "                 test_data=X_test,\n",
        "                 test_label=y_test,\n",
        "                 predict=None):\n",
        "  \"\"\"\n",
        "  Plot triaing data, test data and compares predictions.\n",
        "  \"\"\"\n",
        "  plt.figure(figsize=(10, 7))\n",
        "\n",
        "  #Plot traing data in blue\n",
        "  plt.scatter(train_data, train_label, c=\"b\", s=4, label= \"Training data\")\n",
        "\n",
        "  #Plot test data in green\n",
        "  plt.scatter(test_data, test_label, c=\"g\", s=4, label= \"Test data\")\n",
        "\n",
        "  #Are there predictions?\n",
        "  if predict is not None:\n",
        "    #Plot the predictions if they exist\n",
        "    plt.scatter(test_data, predict, c=\"r\", s=4, label=\"Predictions\")\n",
        "\n",
        "  #Show legend\n",
        "  plt.legend(prop={\"size\":14});\n",
        "\n",
        "plot_predict();"
      ],
      "metadata": {
        "colab": {
          "base_uri": "https://localhost:8080/",
          "height": 459
        },
        "id": "kySNN2kL0crL",
        "outputId": "9e1d23e0-72c1-462b-a851-4825e758ef2b"
      },
      "execution_count": 136,
      "outputs": [
        {
          "output_type": "display_data",
          "data": {
            "text/plain": [
              "<Figure size 1000x700 with 1 Axes>"
            ],
            "image/png": "[encoded data removed]"
          },
          "metadata": {}
        }
      ]
    },
    {
      "cell_type": "markdown",
      "source": [
        "### Building Model (Linear regression model)\n",
        "\n",
        "\n",
        "\n",
        "\n",
        "\n",
        "\n"
      ],
      "metadata": {
        "id": "LnMEYr5Z5KJd"
      }
    },
    {
      "cell_type": "code",
      "source": [
        "# Create linear regression model class > USE THIS!!\n",
        "class LinearRegressionModel(nn.Module):\n",
        "  def __init__(self):\n",
        "    super().__init__()\n",
        "\n",
        "    #Use nn.linear() for creating the model parameters > this is a method to automate creation of features\n",
        "\n",
        "    self.linear_layer = nn.Linear(in_features=1,\n",
        "                                  out_features=1)\n",
        "    #in_features = no of input features, out_features = no of output features\n",
        "\n",
        "# Forward method to define the computation in the model\n",
        "  def forward(self, x: torch.Tensor) -> torch.Tensor:\n",
        "    return self.linear_layer(x)\n",
        "\n",
        "# Set manual seed\n",
        "torch.manual_seed(42)\n",
        "model_a = LinearRegressionModel()\n",
        "model_a, model_a.state_dict()\n"
      ],
      "metadata": {
        "colab": {
          "base_uri": "https://localhost:8080/"
        },
        "id": "YxXWcKZE2EGN",
        "outputId": "4614a2c3-772c-4f03-dbdb-a529c021d7ae"
      },
      "execution_count": 137,
      "outputs": [
        {
          "output_type": "execute_result",
          "data": {
            "text/plain": [
              "(LinearRegressionModel(\n",
              "   (linear_layer): Linear(in_features=1, out_features=1, bias=True)\n",
              " ),\n",
              " OrderedDict([('linear_layer.weight', tensor([[0.7645]])),\n",
              "              ('linear_layer.bias', tensor([0.8300]))]))"
            ]
          },
          "metadata": {},
          "execution_count": 137
        }
      ]
    },
    {
      "cell_type": "markdown",
      "source": [
        "### Check model device vs target device"
      ],
      "metadata": {
        "id": "rdrHzxrcCDOU"
      }
    },
    {
      "cell_type": "code",
      "source": [
        "# Check model device\n",
        "next(model_a.parameters()).device"
      ],
      "metadata": {
        "colab": {
          "base_uri": "https://localhost:8080/"
        },
        "id": "NtDaeGstCCaT",
        "outputId": "34aa2886-ca71-4b2a-a172-2f055eaaa9c9"
      },
      "execution_count": 138,
      "outputs": [
        {
          "output_type": "execute_result",
          "data": {
            "text/plain": [
              "device(type='cpu')"
            ]
          },
          "metadata": {},
          "execution_count": 138
        }
      ]
    },
    {
      "cell_type": "code",
      "source": [
        "# Set model to target device\n",
        "model_a.to(device)\n",
        "next(model_a.parameters()).device"
      ],
      "metadata": {
        "colab": {
          "base_uri": "https://localhost:8080/"
        },
        "id": "hr-wRpFKCXEL",
        "outputId": "1105a938-3536-4b8c-9e8a-fd20c12e9505"
      },
      "execution_count": 139,
      "outputs": [
        {
          "output_type": "execute_result",
          "data": {
            "text/plain": [
              "device(type='cpu')"
            ]
          },
          "metadata": {},
          "execution_count": 139
        }
      ]
    },
    {
      "cell_type": "markdown",
      "source": [
        "### Training Model\n",
        "\n"
      ],
      "metadata": {
        "id": "XgVB7q41JAUJ"
      }
    },
    {
      "cell_type": "markdown",
      "source": [
        "#### Set up Loss Function & Optimiser"
      ],
      "metadata": {
        "id": "o1L7DnkyMD0R"
      }
    },
    {
      "cell_type": "code",
      "source": [
        "#Loss function\n",
        "loss_fn = nn.L1Loss()\n",
        "\n",
        "#Optimiser (stochastic gradient descent- SGD)\n",
        "optimiser = torch.optim.SGD(params=model_a.parameters(),\n",
        "                            lr=0.01) #lr = learning rate (hyperparameter) > the smaller the learning rate the smaller the change in the parameter"
      ],
      "metadata": {
        "id": "puXpomXXNJzG"
      },
      "execution_count": 140,
      "outputs": []
    },
    {
      "cell_type": "markdown",
      "source": [
        "#### Build a training loop and a testing loop\n",
        "\n"
      ],
      "metadata": {
        "id": "AuACips3NVE-"
      }
    },
    {
      "cell_type": "code",
      "source": [
        "# Add epoch (an epoch is 1 loop through the data) > hyperparameter\n",
        "epochs = 200\n",
        "\n",
        "# Make sure data is on correct target device\n",
        "X_train = X_train.to(device)\n",
        "y_train = y_train.to(device)\n",
        "X_test = X_test.to(device)\n",
        "y_test = y_test.to(device)\n",
        "\n",
        "# Track different values - use these to track model performance & compare with other models\n",
        "epoch_count = []\n",
        "loss_values = []\n",
        "test_loss_values = []\n",
        "\n",
        "# Loop through data\n",
        "\n",
        "### Training\n",
        "# 0. Loop through the data\n",
        "for epoch in range(epochs):\n",
        "\n",
        "  #set model to training mode\n",
        "  model_a.train()\n",
        "\n",
        "  # 1. Forward pass\n",
        "  y_pred = model_a(X_train)\n",
        "\n",
        "  # 2. Calculate the loss\n",
        "  loss = loss_fn(y_pred, y_train)\n",
        "\n",
        "  # 3. Optimiser zero grad\n",
        "  optimiser.zero_grad()\n",
        "\n",
        "  # 4. Loss backward (Backpropagation)\n",
        "  loss.backward()\n",
        "\n",
        "  # 5. Optimiser step (Gradient descent)\n",
        "  optimiser.step()\n",
        "\n",
        "\n",
        "### Testing\n",
        "\n",
        "  model_a.eval()\n",
        "  with torch.inference_mode(): # turns off gradient tracking\n",
        "\n",
        "    # 1. Forward pass\n",
        "    test_pred = model_a(X_test)\n",
        "\n",
        "    # 2. Calculate the loss\n",
        "    test_loss = loss_fn(test_pred, y_test)\n",
        "\n",
        "  # Print out what's happening\n",
        "  if epoch % 10 == 0:\n",
        "\n",
        "    print(f\"Epoch: {epoch} | Loss:{loss} | Test loss:{test_loss}\")\n"
      ],
      "metadata": {
        "colab": {
          "base_uri": "https://localhost:8080/"
        },
        "collapsed": true,
        "id": "8mCEqmhiSPB5",
        "outputId": "78651193-37a1-47ba-fc8f-d04d02e7eccc"
      },
      "execution_count": 141,
      "outputs": [
        {
          "output_type": "stream",
          "name": "stdout",
          "text": [
            "Epoch: 0 | Loss:0.6941779851913452 | Test loss:0.7629762291908264\n",
            "Epoch: 10 | Loss:0.5789680480957031 | Test loss:0.6282663941383362\n",
            "Epoch: 20 | Loss:0.4637581706047058 | Test loss:0.49355649948120117\n",
            "Epoch: 30 | Loss:0.3485483229160309 | Test loss:0.3588467240333557\n",
            "Epoch: 40 | Loss:0.23333843052387238 | Test loss:0.22413687407970428\n",
            "Epoch: 50 | Loss:0.11812856048345566 | Test loss:0.08942705392837524\n",
            "Epoch: 60 | Loss:0.01466408371925354 | Test loss:0.027661234140396118\n",
            "Epoch: 70 | Loss:0.01041039265692234 | Test loss:0.0235457606613636\n",
            "Epoch: 80 | Loss:0.006971584167331457 | Test loss:0.01527326088398695\n",
            "Epoch: 90 | Loss:0.0035398390609771013 | Test loss:0.007687687873840332\n",
            "Epoch: 100 | Loss:0.0036876772064715624 | Test loss:0.012758761644363403\n",
            "Epoch: 110 | Loss:0.0036876772064715624 | Test loss:0.012758761644363403\n",
            "Epoch: 120 | Loss:0.0036876772064715624 | Test loss:0.012758761644363403\n",
            "Epoch: 130 | Loss:0.0036876772064715624 | Test loss:0.012758761644363403\n",
            "Epoch: 140 | Loss:0.0036876772064715624 | Test loss:0.012758761644363403\n",
            "Epoch: 150 | Loss:0.0036876772064715624 | Test loss:0.012758761644363403\n",
            "Epoch: 160 | Loss:0.0036876772064715624 | Test loss:0.012758761644363403\n",
            "Epoch: 170 | Loss:0.0036876772064715624 | Test loss:0.012758761644363403\n",
            "Epoch: 180 | Loss:0.0036876772064715624 | Test loss:0.012758761644363403\n",
            "Epoch: 190 | Loss:0.0036876772064715624 | Test loss:0.012758761644363403\n"
          ]
        }
      ]
    },
    {
      "cell_type": "markdown",
      "source": [
        "### Evaluate Model\n"
      ],
      "metadata": {
        "id": "WFUFjfDsEvAc"
      }
    },
    {
      "cell_type": "code",
      "source": [
        "model_a.state_dict()"
      ],
      "metadata": {
        "colab": {
          "base_uri": "https://localhost:8080/"
        },
        "id": "TIVj9avCEnW0",
        "outputId": "7751cc65-a58c-44c8-9a3a-76ccabee97d3"
      },
      "execution_count": 142,
      "outputs": [
        {
          "output_type": "execute_result",
          "data": {
            "text/plain": [
              "OrderedDict([('linear_layer.weight', tensor([[0.5940]])),\n",
              "             ('linear_layer.bias', tensor([0.2060]))])"
            ]
          },
          "metadata": {},
          "execution_count": 142
        }
      ]
    },
    {
      "cell_type": "code",
      "source": [
        "# Turn model into Evaluation mode\n",
        "model_a.eval()\n",
        "\n",
        "\n",
        "# Make Predictions on test data\n",
        "with torch.inference_mode():\n",
        "  y_preds = model_a(X_test)\n",
        "\n",
        "y_preds"
      ],
      "metadata": {
        "colab": {
          "base_uri": "https://localhost:8080/"
        },
        "id": "aIoJwKPlbpX0",
        "outputId": "d1931331-d3eb-4cea-81c8-eff67d08db26"
      },
      "execution_count": 143,
      "outputs": [
        {
          "output_type": "execute_result",
          "data": {
            "text/plain": [
              "tensor([[0.6812],\n",
              "        [0.6931],\n",
              "        [0.7050],\n",
              "        [0.7169],\n",
              "        [0.7288],\n",
              "        [0.7407],\n",
              "        [0.7525],\n",
              "        [0.7644],\n",
              "        [0.7763],\n",
              "        [0.7882]])"
            ]
          },
          "metadata": {},
          "execution_count": 143
        }
      ]
    },
    {
      "cell_type": "code",
      "source": [
        "#Check model visually - if predictions are happening on GPU adjust to CPU by eg y_preds_new.cpu()\n",
        "plot_predict(predict=y_preds)"
      ],
      "metadata": {
        "colab": {
          "base_uri": "https://localhost:8080/",
          "height": 459
        },
        "id": "3fYPoRj9dTWJ",
        "outputId": "068ef82b-168b-4d7c-d3dc-3948058505cf"
      },
      "execution_count": 144,
      "outputs": [
        {
          "output_type": "display_data",
          "data": {
            "text/plain": [
              "<Figure size 1000x700 with 1 Axes>"
            ],
            "image/png": "[encoded data removed]"
          },
          "metadata": {}
        }
      ]
    },
    {
      "cell_type": "markdown",
      "source": [
        "### Saving a model in Pytorch\n"
      ],
      "metadata": {
        "id": "LuRiI4ojuGr-"
      }
    },
    {
      "cell_type": "code",
      "source": [
        "# Saving PyTorch model\n",
        "\n",
        "from pathlib import Path\n",
        "\n",
        "# 1. Create models directory\n",
        "MODEL_PATH = Path(\"models\")\n",
        "MODEL_PATH.mkdir(parents=True, exist_ok=True)\n",
        "\n",
        "# 2. Create model save path\n",
        "MODEL_NAME = \"PyTorch Workflow template.pth\"\n",
        "MODEL_SAVE_PATH = MODEL_PATH / MODEL_NAME\n",
        "\n",
        "# 3. Save the model state dict\n",
        "print(f\"Saving model to: {MODEL_SAVE_PATH}\")\n",
        "torch.save(obj=model_a.state_dict(),\n",
        "           f=MODEL_SAVE_PATH)"
      ],
      "metadata": {
        "colab": {
          "base_uri": "https://localhost:8080/"
        },
        "id": "ZO05-kxZvTiG",
        "outputId": "d3c2b275-be68-49c3-dedc-d0be76dcb863"
      },
      "execution_count": 145,
      "outputs": [
        {
          "output_type": "stream",
          "name": "stdout",
          "text": [
            "Saving model to: models/PyTorch Workflow template.pth\n"
          ]
        }
      ]
    },
    {
      "cell_type": "code",
      "source": [
        "model_a.state_dict()"
      ],
      "metadata": {
        "colab": {
          "base_uri": "https://localhost:8080/"
        },
        "id": "uBRcbvcJKCdV",
        "outputId": "6f18743d-1965-47b2-bca1-870944fb1c8b"
      },
      "execution_count": 146,
      "outputs": [
        {
          "output_type": "execute_result",
          "data": {
            "text/plain": [
              "OrderedDict([('linear_layer.weight', tensor([[0.5940]])),\n",
              "             ('linear_layer.bias', tensor([0.2060]))])"
            ]
          },
          "metadata": {},
          "execution_count": 146
        }
      ]
    },
    {
      "cell_type": "markdown",
      "source": [
        "### Loading a model in Pytorch\n"
      ],
      "metadata": {
        "id": "USf9lAzWxaVU"
      }
    },
    {
      "cell_type": "code",
      "source": [
        "# Load PyTorch model (saved state_dict())\n",
        "\n",
        "# Create ne instance of linear regresssion model\n",
        "loaded_model_a = LinearRegressionModel()\n",
        "\n",
        "# Load saved state_dict of model_a to new instance\n",
        "loaded_model_a.load_state_dict(torch.load(MODEL_SAVE_PATH))\n",
        "\n",
        "# Put the loaded model to device\n",
        "loaded_model_a.to(device)"
      ],
      "metadata": {
        "colab": {
          "base_uri": "https://localhost:8080/"
        },
        "id": "3cy7AFH7w7Ya",
        "outputId": "38a56b77-535e-4a16-d045-ac4ede08ad2d"
      },
      "execution_count": 148,
      "outputs": [
        {
          "output_type": "execute_result",
          "data": {
            "text/plain": [
              "LinearRegressionModel(\n",
              "  (linear_layer): Linear(in_features=1, out_features=1, bias=True)\n",
              ")"
            ]
          },
          "metadata": {},
          "execution_count": 148
        }
      ]
    },
    {
      "cell_type": "markdown",
      "source": [
        "### Evaluate loaded model\n"
      ],
      "metadata": {
        "id": "iz_wmTyNI050"
      }
    },
    {
      "cell_type": "code",
      "source": [
        "next(loaded_model_a.parameters()).device"
      ],
      "metadata": {
        "colab": {
          "base_uri": "https://localhost:8080/"
        },
        "id": "_j7ayIXXQJuO",
        "outputId": "b4927d6c-63d1-4885-bd69-f0444d5bd25d"
      },
      "execution_count": 152,
      "outputs": [
        {
          "output_type": "execute_result",
          "data": {
            "text/plain": [
              "device(type='cpu')"
            ]
          },
          "metadata": {},
          "execution_count": 152
        }
      ]
    },
    {
      "cell_type": "code",
      "source": [
        "loaded_model_a.state_dict()"
      ],
      "metadata": {
        "colab": {
          "base_uri": "https://localhost:8080/"
        },
        "id": "OXmxhF1vQPuO",
        "outputId": "7f329637-d659-4eaf-decc-0dd517c91924"
      },
      "execution_count": 153,
      "outputs": [
        {
          "output_type": "execute_result",
          "data": {
            "text/plain": [
              "OrderedDict([('linear_layer.weight', tensor([[0.5940]])),\n",
              "             ('linear_layer.bias', tensor([0.2060]))])"
            ]
          },
          "metadata": {},
          "execution_count": 153
        }
      ]
    },
    {
      "cell_type": "code",
      "source": [
        "# Test loaded model by comparing with original model\n",
        "\n",
        "loaded_model_a.eval()\n",
        "\n",
        "with torch.inference_mode():\n",
        "  loaded_model_a_preds = loaded_model_a(X_test)\n",
        "\n",
        "# Compare models\n",
        "\n",
        "y_preds == loaded_model_a_preds"
      ],
      "metadata": {
        "colab": {
          "base_uri": "https://localhost:8080/"
        },
        "id": "7-Sxl6c9y7wj",
        "outputId": "6a9a3b60-3c15-4419-e2d3-107253e5d7cd"
      },
      "execution_count": 158,
      "outputs": [
        {
          "output_type": "execute_result",
          "data": {
            "text/plain": [
              "tensor([[True],\n",
              "        [True],\n",
              "        [True],\n",
              "        [True],\n",
              "        [True],\n",
              "        [True],\n",
              "        [True],\n",
              "        [True],\n",
              "        [True],\n",
              "        [True]])"
            ]
          },
          "metadata": {},
          "execution_count": 158
        }
      ]
    }
  ]
}