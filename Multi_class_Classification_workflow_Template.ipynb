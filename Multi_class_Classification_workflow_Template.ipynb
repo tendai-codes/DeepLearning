{
  "nbformat": 4,
  "nbformat_minor": 0,
  "metadata": {
    "colab": {
      "provenance": [],
      "collapsed_sections": [
        "C4Wi0JNz9Inq"
      ],
      "authorship_tag": "ABX9TyMWsert5hJkLZuNWjXS9CTK",
      "include_colab_link": true
    },
    "kernelspec": {
      "name": "python3",
      "display_name": "Python 3"
    },
    "language_info": {
      "name": "python"
    }
  },
  "cells": [
    {
      "cell_type": "markdown",
      "metadata": {
        "id": "view-in-github",
        "colab_type": "text"
      },
      "source": [
        "<a href=\"https://colab.research.google.com/github/tendai-codes/DeepLearning/blob/main/Multi_class_Classification_workflow_Template.ipynb\" target=\"_parent\"><img src=\"https://colab.research.google.com/assets/colab-badge.svg\" alt=\"Open In Colab\"/></a>"
      ]
    },
    {
      "cell_type": "markdown",
      "source": [
        "## Make Classsification data"
      ],
      "metadata": {
        "id": "-e-McBhmu80M"
      }
    },
    {
      "cell_type": "code",
      "source": [
        "import sklearn"
      ],
      "metadata": {
        "id": "beCb7U5Su8jH"
      },
      "execution_count": null,
      "outputs": []
    },
    {
      "cell_type": "code",
      "execution_count": null,
      "metadata": {
        "id": "QBt4f-wNU6yT"
      },
      "outputs": [],
      "source": [
        "from sklearn.datasets import fetch_rcv1\n",
        "rcv1 = fetch_rcv1()\n",
        "\n",
        "rcv1"
      ]
    },
    {
      "cell_type": "code",
      "source": [
        "import pandas as pd\n",
        "data = pd.DataFrame(rcv1.data)\n",
        "data.head()"
      ],
      "metadata": {
        "id": "i32iNdhcxbL9"
      },
      "execution_count": null,
      "outputs": []
    },
    {
      "cell_type": "code",
      "source": [],
      "metadata": {
        "id": "lhyfZjE25Eos"
      },
      "execution_count": null,
      "outputs": []
    },
    {
      "cell_type": "markdown",
      "source": [
        "### Import Dependencies\n"
      ],
      "metadata": {
        "id": "em6s1VXuuoDD"
      }
    },
    {
      "cell_type": "code",
      "source": [
        "# Import Libraries\n",
        "import torch\n",
        "import matplotlib.pyplot as plt\n",
        "import numpy as np\n",
        "import sklearn\n",
        "from sklearn.model_selection import train_test_split\n",
        "\n",
        "# Set Hyperparameters for data\n",
        "NUM_CLASSES = 5\n",
        "NUM_FEATURES = 30\n",
        "LEARNING_RATE = 0.01\n",
        "NUM_EPOCHS = 500\n",
        "RANDOM_SEED = 42\n"
      ],
      "metadata": {
        "id": "DJHxWypW5HrK"
      },
      "execution_count": null,
      "outputs": []
    },
    {
      "cell_type": "markdown",
      "source": [
        "### Turn data into tensors"
      ],
      "metadata": {
        "id": "eZ7Zi0KM54tD"
      }
    },
    {
      "cell_type": "code",
      "source": [
        "# Create multi-class data\n",
        "X , y = \"dataset\"(n_samples=1000,\n",
        "                            n_features=NUM_FEATURES,\n",
        "                            centres=NUM_CLASSES,\n",
        "                            cluster_std=1.5,\n",
        "                            random_state=RANDOM_SEED)\n",
        "\n",
        "# Convert data to tensors\n",
        "X = torch.from_numpy(X).type(torch.float)\n",
        "y = torch.from_numpy(y).type(torch.LongTensor)\n",
        "\n",
        "X[:5], y[:5]"
      ],
      "metadata": {
        "id": "TvCxR3dl5yYo"
      },
      "execution_count": null,
      "outputs": []
    },
    {
      "cell_type": "markdown",
      "source": [
        "##Check input and output shapes"
      ],
      "metadata": {
        "id": "ZGcMQytM5APl"
      }
    },
    {
      "cell_type": "code",
      "source": [
        "X.shape , y.shape # This will help you figure out input and output features for buildng model"
      ],
      "metadata": {
        "id": "9wqyRjPG5h4R"
      },
      "execution_count": null,
      "outputs": []
    },
    {
      "cell_type": "markdown",
      "source": [
        "## Split Training an test data"
      ],
      "metadata": {
        "id": "fQu9HiMg6iqE"
      }
    },
    {
      "cell_type": "code",
      "source": [
        "X_train, X_test, y_train, y_test = train_test_split(X, y, test_size=0.2, random_state=RANDOM_SEED)\n",
        "#0.2 = 20% of data will be test, 80% will be train"
      ],
      "metadata": {
        "id": "-x2XPFcD7K6A"
      },
      "execution_count": null,
      "outputs": []
    },
    {
      "cell_type": "code",
      "source": [
        "len(X_train), len(X_test), len(y_train), len(y_test)"
      ],
      "metadata": {
        "id": "jRM191rF7MIo"
      },
      "execution_count": null,
      "outputs": []
    },
    {
      "cell_type": "markdown",
      "source": [
        "### Create Device agnostic code"
      ],
      "metadata": {
        "id": "KGKWRwGN8L3p"
      }
    },
    {
      "cell_type": "code",
      "source": [
        "# Setup device Agnostic Code\n",
        "from torch import nn\n",
        "\n",
        "device = \"cuda\" if torch.cuda.is_available() else \"cpu\"\n",
        "print(f\"Using Device: {device}\")"
      ],
      "metadata": {
        "id": "laFX_qQX8TKI",
        "colab": {
          "base_uri": "https://localhost:8080/"
        },
        "outputId": "560dfa62-8774-4e9b-c864-18cd33ca8ae2"
      },
      "execution_count": null,
      "outputs": [
        {
          "output_type": "stream",
          "name": "stdout",
          "text": [
            "Using Device: cpu\n"
          ]
        }
      ]
    },
    {
      "cell_type": "markdown",
      "source": [
        "### Build Model"
      ],
      "metadata": {
        "id": "NXQsNxqY7n7J"
      }
    },
    {
      "cell_type": "code",
      "source": [
        "# Create linear regression model class > THIS METHOD FOR LESS COMPLEX LAYERS\n",
        "class ClassificationModel(nn.Module):\n",
        "  def __init__(self, input_features, output_features, hidden_units=8):\n",
        "    \"\"\" Initializes multi-calss classification model.\n",
        "\n",
        "    Args:\n",
        "    input_features (int): Number of input features to the model.\n",
        "    output_features (int): Number of output features of the model.\n",
        "    hidden_units (int): Number of hidden units between layers, default 8.\n",
        "\n",
        "    Returns:\n",
        "\n",
        "    Example\"\n",
        "    \"\"\"\n",
        "    super().__init__()\n",
        "\n",
        "    #Use nn.linear() for creating the model parameters > this is a method to automate creation of features\n",
        "    self.linear_layers = nn.Sequential(\n",
        "        nn.Linear(in_features= input_features,\n",
        "                  out_features= hidden_units),\n",
        "        nn.ReLU(),\n",
        "        nn.Linear(in_features=hidden_units,\n",
        "                  out_features=hidden_units),\n",
        "        nn.ReLU(),\n",
        "        nn.Linear(in_features=hidden_units,\n",
        "                  out_features=output_features)\n",
        "    )\n",
        "\n",
        "# Forward method to define the computation in the model\n",
        "  def forward(self, x):\n",
        "    return self.linear_layers(x)\n",
        "\n",
        "# Set manual seed\n",
        "torch.manual_seed(42)\n",
        "torch.cuda.manual_seed(42) # if using GPU\n",
        "model_0 = ClassificationModel(input_features=2,\n",
        "                              output_features=4\n",
        "                              hidden_units=8).to(device)\n",
        "model_0"
      ],
      "metadata": {
        "id": "FfH4DLoa5JCn"
      },
      "execution_count": null,
      "outputs": []
    },
    {
      "cell_type": "markdown",
      "source": [
        "### Check model device vs target device\n",
        "\n",
        "\n"
      ],
      "metadata": {
        "id": "j8xkKpZW8oDR"
      }
    },
    {
      "cell_type": "code",
      "source": [
        "# Check model device\n",
        "next(model_0.parameters()).device"
      ],
      "metadata": {
        "id": "c9iboqFW8fwb",
        "colab": {
          "base_uri": "https://localhost:8080/"
        },
        "outputId": "ac98abe6-f7e5-49a4-bc8f-f53a061e5e24"
      },
      "execution_count": null,
      "outputs": [
        {
          "output_type": "execute_result",
          "data": {
            "text/plain": [
              "device(type='cpu')"
            ]
          },
          "metadata": {},
          "execution_count": 16
        }
      ]
    },
    {
      "cell_type": "code",
      "source": [
        "# Set model to target device\n",
        "model_0.to(device)\n",
        "next(model_0.parameters()).device"
      ],
      "metadata": {
        "id": "5PcN0XbS8jGy",
        "colab": {
          "base_uri": "https://localhost:8080/"
        },
        "outputId": "4611ab71-86c4-426d-dbae-7caa97207e37"
      },
      "execution_count": null,
      "outputs": [
        {
          "output_type": "execute_result",
          "data": {
            "text/plain": [
              "device(type='cpu')"
            ]
          },
          "metadata": {},
          "execution_count": 18
        }
      ]
    },
    {
      "cell_type": "markdown",
      "source": [
        "### Train Model"
      ],
      "metadata": {
        "id": "kPO9wQ6g85o-"
      }
    },
    {
      "cell_type": "markdown",
      "source": [
        "#### Set up Loss Function & Optimiser"
      ],
      "metadata": {
        "id": "daOs6RH68839"
      }
    },
    {
      "cell_type": "code",
      "source": [
        "#Loss function\n",
        "\n",
        "loss_fn = nn.CrossEntropyLoss() #has sigmoid activation function built in\n",
        "\n",
        "#Optimiser (stochastic gradient descent- SGD)\n",
        "optimizer = torch.optim.SGD(params=model_0.parameters(),\n",
        "                            lr=LEARNING_RATE) #lr = learning rate (hyperparameter) > the smaller the learning rate the smaller the change in the parameter"
      ],
      "metadata": {
        "id": "NedJJk_I9Are"
      },
      "execution_count": null,
      "outputs": []
    },
    {
      "cell_type": "markdown",
      "source": [
        "#### Evaluate Model accuracy"
      ],
      "metadata": {
        "id": "eolxhoBRHj-h"
      }
    },
    {
      "cell_type": "code",
      "source": [
        "def accuracy_fn(y_true, y_pred):\n",
        "  correct = torch.eq(y_true, y_pred).sum().item()\n",
        "  acc = (correct/len(y_pred))*100\n",
        "  return acc"
      ],
      "metadata": {
        "id": "w-jb8fsyHpfM"
      },
      "execution_count": null,
      "outputs": []
    },
    {
      "cell_type": "code",
      "source": [
        "# View outputs of forward pass\n",
        "model_0.eval()\n",
        "with torch.inference_mode():\n",
        "  y_logits = model_0(X_test.to(device))\n",
        "\n",
        "#Convert logits > predicted probabilities > predicted labels\n",
        "  y_pred_probs = torch.softmax(y_logits, dim=1)"
      ],
      "metadata": {
        "id": "TmKS3KzRK2YX"
      },
      "execution_count": null,
      "outputs": []
    },
    {
      "cell_type": "code",
      "source": [
        "y_pred = torch.argmax(y_pred_probs, dim=1)\n",
        "y_pred"
      ],
      "metadata": {
        "id": "z-KJcC6TOaCD"
      },
      "execution_count": null,
      "outputs": []
    },
    {
      "cell_type": "markdown",
      "source": [
        "### Build a training loop and a testing loop\n"
      ],
      "metadata": {
        "id": "C4Wi0JNz9Inq"
      }
    },
    {
      "cell_type": "code",
      "source": [
        "torch.manual_seed(42)\n",
        "torch.cuda.manual_seed(42) # if using GPU\n",
        "\n",
        "# Set number of epochs\n",
        "\n",
        "epochs = NUM_EPOCHS\n",
        "\n",
        "# Make sure data is on correct target device\n",
        "X_train = X_train.to(device)\n",
        "y_train = y_train.to(device)\n",
        "X_test = X_test.to(device)\n",
        "y_test = y_test.to(device)\n",
        "\n",
        "# Track different values - use these to track model performance & compare with other models\n",
        "epoch_count = []\n",
        "loss_values = []\n",
        "test_loss_values = []\n",
        "\n",
        "# Loop through data\n",
        "\n",
        "### Training\n",
        "# 0. Loop through the data\n",
        "for epoch in range(epochs):\n",
        "\n",
        "  #set model to training mode\n",
        "  model_0.train()\n",
        "\n",
        "  # 1. Forward pass\n",
        "  y_logits = model_0(X_train).squeeze() #check squeeze\n",
        "  y_pred = torch.softmax(y_logits, dim=1).argmax(dim=1)\n",
        "\n",
        "  # 2. Calculate the loss/accuracy\n",
        "  #loss = loss_fn(torch.sigmoid(y_logits),\n",
        "  #              y_train) # for nn.BCELoss expects prediction probabilities as input\n",
        "\n",
        "  loss = loss_fn(y_logits,\n",
        "                 y_train)\n",
        "  acc = accuracy_fn(y_true=y_train,\n",
        "                    y_pred=y_pred)\n",
        "\n",
        "  # 3. Optimiser zero grad\n",
        "  optimizer.zero_grad()\n",
        "\n",
        "  # 4. Loss backward (Backpropagation)\n",
        "  loss.backward()\n",
        "\n",
        "  # 5. Optimiser step (Gradient descent)\n",
        "  optimizer.step()\n",
        "\n",
        "\n",
        "### Testing\n",
        "\n",
        "  model_0.eval()\n",
        "  with torch.inference_mode(): # turns off gradient tracking\n",
        "\n",
        "    # 1. Forward pass\n",
        "    test_logits = model_0(X_test).squeeze() #check squeeze\n",
        "    test_pred = torch.softmax(test_logits, dim=1).argmax(dim=1)\n",
        "\n",
        "    # 2. Calculate the loss\n",
        "    test_loss = loss_fn(test_logits\n",
        "                        , y_test)\n",
        "    test_acc = accuracy_fn(y_true=y_test,\n",
        "                           y_pred=test_pred)\n",
        "\n",
        "  # Print out what's happening\n",
        "  if epoch % 50  == 0:\n",
        "\n",
        "    print(f\"Epoch: {epoch} | Loss:{loss:.4f} | Acc: {acc:.2f}% | Test loss:{test_loss:.4f} | Test Acc: {acc:.2f}%\")\n"
      ],
      "metadata": {
        "id": "SBS1Ntvg9EeW"
      },
      "execution_count": null,
      "outputs": []
    },
    {
      "cell_type": "markdown",
      "source": [
        "## Improve a model (from a model's perspective)\n",
        "\n",
        "* Add more layers - gives the model more chances to learn about patterns in the data\n",
        "* Add more hidden units -\n",
        "* Fit for longer - increase epochs\n",
        "* Change the activation function\n",
        "* Change the learning rate\n",
        "* Change the loss function\n"
      ],
      "metadata": {
        "id": "4WxbGCpqUHLH"
      }
    },
    {
      "cell_type": "markdown",
      "source": [
        "### Evaluate Model"
      ],
      "metadata": {
        "id": "imHWVJVyom5R"
      }
    },
    {
      "cell_type": "code",
      "source": [
        "model_0.state_dict()"
      ],
      "metadata": {
        "id": "qSPgd-1AozC-"
      },
      "execution_count": null,
      "outputs": []
    },
    {
      "cell_type": "code",
      "source": [
        "# Turn model into Evaluation mode\n",
        "model_0.eval()\n",
        "\n",
        "# Make Predictions on test data\n",
        "with torch.inference_mode():\n",
        "  y_logits = model_0(X_test).squeeze() #check squeeze\n",
        "  y_pred_probs = torch.softmax(y_logits, dim=1)\n",
        "\n",
        "# Go from prdected probabilities to predcted labels\n",
        "  y_pred = torch.argmax(y_pred_probs, dim=1)\n",
        "\n",
        "y_pred[:10], y_test[:10]"
      ],
      "metadata": {
        "id": "COqZKEMjUvd7"
      },
      "execution_count": null,
      "outputs": []
    },
    {
      "cell_type": "markdown",
      "source": [
        "### Classification Metrics\n",
        "\n",
        "* Accuracy\n",
        "* Precision\n",
        "* F1 score\n",
        "* Confusion Matrix\n",
        "* Classification report"
      ],
      "metadata": {
        "id": "yEKBe-11Y9Sg"
      }
    },
    {
      "cell_type": "code",
      "source": [
        "!pip install torchmetrics"
      ],
      "metadata": {
        "colab": {
          "base_uri": "https://localhost:8080/"
        },
        "collapsed": true,
        "id": "uCeteJ09VPR4",
        "outputId": "0d95b361-00c8-4669-ddce-a95c746d5b6e"
      },
      "execution_count": null,
      "outputs": [
        {
          "output_type": "stream",
          "name": "stdout",
          "text": [
            "Collecting torchmetrics\n",
            "  Downloading torchmetrics-1.7.1-py3-none-any.whl.metadata (21 kB)\n",
            "Requirement already satisfied: numpy>1.20.0 in /usr/local/lib/python3.11/dist-packages (from torchmetrics) (2.0.2)\n",
            "Requirement already satisfied: packaging>17.1 in /usr/local/lib/python3.11/dist-packages (from torchmetrics) (24.2)\n",
            "Requirement already satisfied: torch>=2.0.0 in /usr/local/lib/python3.11/dist-packages (from torchmetrics) (2.6.0+cu124)\n",
            "Collecting lightning-utilities>=0.8.0 (from torchmetrics)\n",
            "  Downloading lightning_utilities-0.14.3-py3-none-any.whl.metadata (5.6 kB)\n",
            "Requirement already satisfied: setuptools in /usr/local/lib/python3.11/dist-packages (from lightning-utilities>=0.8.0->torchmetrics) (75.2.0)\n",
            "Requirement already satisfied: typing_extensions in /usr/local/lib/python3.11/dist-packages (from lightning-utilities>=0.8.0->torchmetrics) (4.13.2)\n",
            "Requirement already satisfied: filelock in /usr/local/lib/python3.11/dist-packages (from torch>=2.0.0->torchmetrics) (3.18.0)\n",
            "Requirement already satisfied: networkx in /usr/local/lib/python3.11/dist-packages (from torch>=2.0.0->torchmetrics) (3.4.2)\n",
            "Requirement already satisfied: jinja2 in /usr/local/lib/python3.11/dist-packages (from torch>=2.0.0->torchmetrics) (3.1.6)\n",
            "Requirement already satisfied: fsspec in /usr/local/lib/python3.11/dist-packages (from torch>=2.0.0->torchmetrics) (2025.3.2)\n",
            "Collecting nvidia-cuda-nvrtc-cu12==12.4.127 (from torch>=2.0.0->torchmetrics)\n",
            "  Downloading nvidia_cuda_nvrtc_cu12-12.4.127-py3-none-manylinux2014_x86_64.whl.metadata (1.5 kB)\n",
            "Collecting nvidia-cuda-runtime-cu12==12.4.127 (from torch>=2.0.0->torchmetrics)\n",
            "  Downloading nvidia_cuda_runtime_cu12-12.4.127-py3-none-manylinux2014_x86_64.whl.metadata (1.5 kB)\n",
            "Collecting nvidia-cuda-cupti-cu12==12.4.127 (from torch>=2.0.0->torchmetrics)\n",
            "  Downloading nvidia_cuda_cupti_cu12-12.4.127-py3-none-manylinux2014_x86_64.whl.metadata (1.6 kB)\n",
            "Collecting nvidia-cudnn-cu12==9.1.0.70 (from torch>=2.0.0->torchmetrics)\n",
            "  Downloading nvidia_cudnn_cu12-9.1.0.70-py3-none-manylinux2014_x86_64.whl.metadata (1.6 kB)\n",
            "Collecting nvidia-cublas-cu12==12.4.5.8 (from torch>=2.0.0->torchmetrics)\n",
            "  Downloading nvidia_cublas_cu12-12.4.5.8-py3-none-manylinux2014_x86_64.whl.metadata (1.5 kB)\n",
            "Collecting nvidia-cufft-cu12==11.2.1.3 (from torch>=2.0.0->torchmetrics)\n",
            "  Downloading nvidia_cufft_cu12-11.2.1.3-py3-none-manylinux2014_x86_64.whl.metadata (1.5 kB)\n",
            "Collecting nvidia-curand-cu12==10.3.5.147 (from torch>=2.0.0->torchmetrics)\n",
            "  Downloading nvidia_curand_cu12-10.3.5.147-py3-none-manylinux2014_x86_64.whl.metadata (1.5 kB)\n",
            "Collecting nvidia-cusolver-cu12==11.6.1.9 (from torch>=2.0.0->torchmetrics)\n",
            "  Downloading nvidia_cusolver_cu12-11.6.1.9-py3-none-manylinux2014_x86_64.whl.metadata (1.6 kB)\n",
            "Collecting nvidia-cusparse-cu12==12.3.1.170 (from torch>=2.0.0->torchmetrics)\n",
            "  Downloading nvidia_cusparse_cu12-12.3.1.170-py3-none-manylinux2014_x86_64.whl.metadata (1.6 kB)\n",
            "Requirement already satisfied: nvidia-cusparselt-cu12==0.6.2 in /usr/local/lib/python3.11/dist-packages (from torch>=2.0.0->torchmetrics) (0.6.2)\n",
            "Requirement already satisfied: nvidia-nccl-cu12==2.21.5 in /usr/local/lib/python3.11/dist-packages (from torch>=2.0.0->torchmetrics) (2.21.5)\n",
            "Requirement already satisfied: nvidia-nvtx-cu12==12.4.127 in /usr/local/lib/python3.11/dist-packages (from torch>=2.0.0->torchmetrics) (12.4.127)\n",
            "Collecting nvidia-nvjitlink-cu12==12.4.127 (from torch>=2.0.0->torchmetrics)\n",
            "  Downloading nvidia_nvjitlink_cu12-12.4.127-py3-none-manylinux2014_x86_64.whl.metadata (1.5 kB)\n",
            "Requirement already satisfied: triton==3.2.0 in /usr/local/lib/python3.11/dist-packages (from torch>=2.0.0->torchmetrics) (3.2.0)\n",
            "Requirement already satisfied: sympy==1.13.1 in /usr/local/lib/python3.11/dist-packages (from torch>=2.0.0->torchmetrics) (1.13.1)\n",
            "Requirement already satisfied: mpmath<1.4,>=1.1.0 in /usr/local/lib/python3.11/dist-packages (from sympy==1.13.1->torch>=2.0.0->torchmetrics) (1.3.0)\n",
            "Requirement already satisfied: MarkupSafe>=2.0 in /usr/local/lib/python3.11/dist-packages (from jinja2->torch>=2.0.0->torchmetrics) (3.0.2)\n",
            "Downloading torchmetrics-1.7.1-py3-none-any.whl (961 kB)\n",
            "\u001b[2K   \u001b[90m━━━━━━━━━━━━━━━━━━━━━━━━━━━━━━━━━━━━━━━━\u001b[0m \u001b[32m961.5/961.5 kB\u001b[0m \u001b[31m13.3 MB/s\u001b[0m eta \u001b[36m0:00:00\u001b[0m\n",
            "\u001b[?25hDownloading lightning_utilities-0.14.3-py3-none-any.whl (28 kB)\n",
            "Downloading nvidia_cublas_cu12-12.4.5.8-py3-none-manylinux2014_x86_64.whl (363.4 MB)\n",
            "\u001b[2K   \u001b[90m━━━━━━━━━━━━━━━━━━━━━━━━━━━━━━━━━━━━━━━━\u001b[0m \u001b[32m363.4/363.4 MB\u001b[0m \u001b[31m2.8 MB/s\u001b[0m eta \u001b[36m0:00:00\u001b[0m\n",
            "\u001b[?25hDownloading nvidia_cuda_cupti_cu12-12.4.127-py3-none-manylinux2014_x86_64.whl (13.8 MB)\n",
            "\u001b[2K   \u001b[90m━━━━━━━━━━━━━━━━━━━━━━━━━━━━━━━━━━━━━━━━\u001b[0m \u001b[32m13.8/13.8 MB\u001b[0m \u001b[31m99.0 MB/s\u001b[0m eta \u001b[36m0:00:00\u001b[0m\n",
            "\u001b[?25hDownloading nvidia_cuda_nvrtc_cu12-12.4.127-py3-none-manylinux2014_x86_64.whl (24.6 MB)\n",
            "\u001b[2K   \u001b[90m━━━━━━━━━━━━━━━━━━━━━━━━━━━━━━━━━━━━━━━━\u001b[0m \u001b[32m24.6/24.6 MB\u001b[0m \u001b[31m82.0 MB/s\u001b[0m eta \u001b[36m0:00:00\u001b[0m\n",
            "\u001b[?25hDownloading nvidia_cuda_runtime_cu12-12.4.127-py3-none-manylinux2014_x86_64.whl (883 kB)\n",
            "\u001b[2K   \u001b[90m━━━━━━━━━━━━━━━━━━━━━━━━━━━━━━━━━━━━━━━━\u001b[0m \u001b[32m883.7/883.7 kB\u001b[0m \u001b[31m45.2 MB/s\u001b[0m eta \u001b[36m0:00:00\u001b[0m\n",
            "\u001b[?25hDownloading nvidia_cudnn_cu12-9.1.0.70-py3-none-manylinux2014_x86_64.whl (664.8 MB)\n",
            "\u001b[2K   \u001b[90m━━━━━━━━━━━━━━━━━━━━━━━━━━━━━━━━━━━━━━━\u001b[0m \u001b[32m664.8/664.8 MB\u001b[0m \u001b[31m750.4 kB/s\u001b[0m eta \u001b[36m0:00:00\u001b[0m\n",
            "\u001b[?25hDownloading nvidia_cufft_cu12-11.2.1.3-py3-none-manylinux2014_x86_64.whl (211.5 MB)\n",
            "\u001b[2K   \u001b[90m━━━━━━━━━━━━━━━━━━━━━━━━━━━━━━━━━━━━━━━━\u001b[0m \u001b[32m211.5/211.5 MB\u001b[0m \u001b[31m4.7 MB/s\u001b[0m eta \u001b[36m0:00:00\u001b[0m\n",
            "\u001b[?25hDownloading nvidia_curand_cu12-10.3.5.147-py3-none-manylinux2014_x86_64.whl (56.3 MB)\n",
            "\u001b[2K   \u001b[90m━━━━━━━━━━━━━━━━━━━━━━━━━━━━━━━━━━━━━━━━\u001b[0m \u001b[32m56.3/56.3 MB\u001b[0m \u001b[31m10.5 MB/s\u001b[0m eta \u001b[36m0:00:00\u001b[0m\n",
            "\u001b[?25hDownloading nvidia_cusolver_cu12-11.6.1.9-py3-none-manylinux2014_x86_64.whl (127.9 MB)\n",
            "\u001b[2K   \u001b[90m━━━━━━━━━━━━━━━━━━━━━━━━━━━━━━━━━━━━━━━━\u001b[0m \u001b[32m127.9/127.9 MB\u001b[0m \u001b[31m8.0 MB/s\u001b[0m eta \u001b[36m0:00:00\u001b[0m\n",
            "\u001b[?25hDownloading nvidia_cusparse_cu12-12.3.1.170-py3-none-manylinux2014_x86_64.whl (207.5 MB)\n",
            "\u001b[2K   \u001b[90m━━━━━━━━━━━━━━━━━━━━━━━━━━━━━━━━━━━━━━━━\u001b[0m \u001b[32m207.5/207.5 MB\u001b[0m \u001b[31m2.9 MB/s\u001b[0m eta \u001b[36m0:00:00\u001b[0m\n",
            "\u001b[?25hDownloading nvidia_nvjitlink_cu12-12.4.127-py3-none-manylinux2014_x86_64.whl (21.1 MB)\n",
            "\u001b[2K   \u001b[90m━━━━━━━━━━━━━━━━━━━━━━━━━━━━━━━━━━━━━━━━\u001b[0m \u001b[32m21.1/21.1 MB\u001b[0m \u001b[31m95.2 MB/s\u001b[0m eta \u001b[36m0:00:00\u001b[0m\n",
            "\u001b[?25hInstalling collected packages: nvidia-nvjitlink-cu12, nvidia-curand-cu12, nvidia-cufft-cu12, nvidia-cuda-runtime-cu12, nvidia-cuda-nvrtc-cu12, nvidia-cuda-cupti-cu12, nvidia-cublas-cu12, lightning-utilities, nvidia-cusparse-cu12, nvidia-cudnn-cu12, nvidia-cusolver-cu12, torchmetrics\n",
            "  Attempting uninstall: nvidia-nvjitlink-cu12\n",
            "    Found existing installation: nvidia-nvjitlink-cu12 12.5.82\n",
            "    Uninstalling nvidia-nvjitlink-cu12-12.5.82:\n",
            "      Successfully uninstalled nvidia-nvjitlink-cu12-12.5.82\n",
            "  Attempting uninstall: nvidia-curand-cu12\n",
            "    Found existing installation: nvidia-curand-cu12 10.3.6.82\n",
            "    Uninstalling nvidia-curand-cu12-10.3.6.82:\n",
            "      Successfully uninstalled nvidia-curand-cu12-10.3.6.82\n",
            "  Attempting uninstall: nvidia-cufft-cu12\n",
            "    Found existing installation: nvidia-cufft-cu12 11.2.3.61\n",
            "    Uninstalling nvidia-cufft-cu12-11.2.3.61:\n",
            "      Successfully uninstalled nvidia-cufft-cu12-11.2.3.61\n",
            "  Attempting uninstall: nvidia-cuda-runtime-cu12\n",
            "    Found existing installation: nvidia-cuda-runtime-cu12 12.5.82\n",
            "    Uninstalling nvidia-cuda-runtime-cu12-12.5.82:\n",
            "      Successfully uninstalled nvidia-cuda-runtime-cu12-12.5.82\n",
            "  Attempting uninstall: nvidia-cuda-nvrtc-cu12\n",
            "    Found existing installation: nvidia-cuda-nvrtc-cu12 12.5.82\n",
            "    Uninstalling nvidia-cuda-nvrtc-cu12-12.5.82:\n",
            "      Successfully uninstalled nvidia-cuda-nvrtc-cu12-12.5.82\n",
            "  Attempting uninstall: nvidia-cuda-cupti-cu12\n",
            "    Found existing installation: nvidia-cuda-cupti-cu12 12.5.82\n",
            "    Uninstalling nvidia-cuda-cupti-cu12-12.5.82:\n",
            "      Successfully uninstalled nvidia-cuda-cupti-cu12-12.5.82\n",
            "  Attempting uninstall: nvidia-cublas-cu12\n",
            "    Found existing installation: nvidia-cublas-cu12 12.5.3.2\n",
            "    Uninstalling nvidia-cublas-cu12-12.5.3.2:\n",
            "      Successfully uninstalled nvidia-cublas-cu12-12.5.3.2\n",
            "  Attempting uninstall: nvidia-cusparse-cu12\n",
            "    Found existing installation: nvidia-cusparse-cu12 12.5.1.3\n",
            "    Uninstalling nvidia-cusparse-cu12-12.5.1.3:\n",
            "      Successfully uninstalled nvidia-cusparse-cu12-12.5.1.3\n",
            "  Attempting uninstall: nvidia-cudnn-cu12\n",
            "    Found existing installation: nvidia-cudnn-cu12 9.3.0.75\n",
            "    Uninstalling nvidia-cudnn-cu12-9.3.0.75:\n",
            "      Successfully uninstalled nvidia-cudnn-cu12-9.3.0.75\n",
            "  Attempting uninstall: nvidia-cusolver-cu12\n",
            "    Found existing installation: nvidia-cusolver-cu12 11.6.3.83\n",
            "    Uninstalling nvidia-cusolver-cu12-11.6.3.83:\n",
            "      Successfully uninstalled nvidia-cusolver-cu12-11.6.3.83\n",
            "Successfully installed lightning-utilities-0.14.3 nvidia-cublas-cu12-12.4.5.8 nvidia-cuda-cupti-cu12-12.4.127 nvidia-cuda-nvrtc-cu12-12.4.127 nvidia-cuda-runtime-cu12-12.4.127 nvidia-cudnn-cu12-9.1.0.70 nvidia-cufft-cu12-11.2.1.3 nvidia-curand-cu12-10.3.5.147 nvidia-cusolver-cu12-11.6.1.9 nvidia-cusparse-cu12-12.3.1.170 nvidia-nvjitlink-cu12-12.4.127 torchmetrics-1.7.1\n"
          ]
        }
      ]
    },
    {
      "cell_type": "code",
      "source": [
        "from torchmetrics import Accuracy\n",
        "\n",
        "# Set up Metric\n",
        "torchmetric_accuracy = Accuracy().to(device)\n",
        "\n",
        "# Calculate accuracy\n",
        "torchmetric_accuracy(y_pred, y_test)"
      ],
      "metadata": {
        "id": "dBARXcHZX-vT"
      },
      "execution_count": null,
      "outputs": []
    }
  ]
}